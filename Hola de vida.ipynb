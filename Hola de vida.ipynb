{
 "cells": [
  {
   "cell_type": "markdown",
   "metadata": {},
   "source": [
    "<right> <img src=\"./recursos/img1.png\" align=\"right\"></right>\n",
    "\n",
    "\n",
    "\n",
    "Presentación\n",
    "============================\n",
    "![img](./recursos/img1.png)\n",
    "- **Nombres y Apellidos:** Edisson Santiago Mejia Matute\n",
    "- **Ciudad de nacimiento:** Cuenca\n",
    "- **CI:** 0106267388\n",
    "- **Estado Civil:** Soltero\n",
    "- **Telefono:** 0057582059\n"
   ]
  },
  {
   "cell_type": "markdown",
   "metadata": {},
   "source": [
    "\n",
    "    \n",
    "Formación Académica\n",
    "=======================\n",
    "- Educación Superios Estudiante 6to ciclo de Tecnologías de la Información, 2021 \n",
    "- Entidad: Universidad Técnica Particular de Loja \n",
    "- Estudiante 8vo ciclo de Ingeniería de Sistemas, febrero 2019 \n",
    "- Entidad: Universidad de Cuenca \n",
    "- Educación Secundaria Técnico en Comercio y Administración Especialización  aplicaciones informáticas \n",
    "- Entidad: Colegio Universitario Miguel Cordero Crespo \n",
    "- Educación Básica Escuela Aurelio Aguilar Vázquez \n",
    "- Idioma Extranjero Inglés. Dominio del idioma escrito (básico) \n",
    "    "
   ]
  },
  {
   "cell_type": "markdown",
   "metadata": {},
   "source": [
    "# Congresos y Seminarios\n",
    "- Seminario internacional de relaciones humanas y superación personal. Fundación Educativa “Jóvenes de América”, marzo de 2010.\n",
    "- Seminario internacional de relaciones humanas y superación personal. Fundación Educativa “Jóvenes de América”, marzo de 2010.\n",
    "- Desarrollo de programa de técnicas de lectura integral y selectiva. Técnicas americanas de estudio, junio de 2007.\n",
    "- XI encuentro de las tecnologías de la información y comunicación “ETIC”. Universidad de Cuenca, junio de 2011.\n",
    "- Segundo congreso de tecnologías de la información y comunicación de las universidades del Ecuador. Universidad de Cuenca, diciembre 2014.\n",
    "- I congreso de ciencias de la computación. Universidad de Cuenca, octubre 2017. • I Jornadas de dirección de proyectos PMI. Universidad de Cuenca, mayo 2018. • Miembro colaborador de la Association for Computing Machinery (ACM), mayo 2018."
   ]
  },
  {
   "cell_type": "markdown",
   "metadata": {},
   "source": [
    "# Experiencia Laboral\n",
    "- Operador Técnico para el Consejo Nacional Electoral, del 25 de enero de 2014 al 24 de  febrero de 2014. \n",
    "- Desarrollador de proyectos de software: Recursos Forestales, Agroforestal, del 1 mayo de  2019 al 2 de agosto de 2019. \n",
    "- Jefe de sistemas en la compañia Seguridad Mundi track, del 1 febrero del 2021 al 31 de Marzo del 2021.\n"
   ]
  }
 ],
 "metadata": {
  "kernelspec": {
   "display_name": "Python 3",
   "language": "python",
   "name": "python3"
  },
  "language_info": {
   "codemirror_mode": {
    "name": "ipython",
    "version": 3
   },
   "file_extension": ".py",
   "mimetype": "text/x-python",
   "name": "python",
   "nbconvert_exporter": "python",
   "pygments_lexer": "ipython3",
   "version": "3.8.5"
  }
 },
 "nbformat": 4,
 "nbformat_minor": 4
}
